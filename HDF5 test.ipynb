{
 "cells": [
  {
   "cell_type": "code",
   "execution_count": 1,
   "metadata": {
    "collapsed": false
   },
   "outputs": [],
   "source": [
    "import os\n",
    "try:\n",
    "    os.chdir(os.path.abspath('./src'))\n",
    "except:\n",
    "    pass\n",
    "\n",
    "import imp\n",
    "import numpy as np\n",
    "import pandas as pd\n",
    "import icosphere as ico"
   ]
  },
  {
   "cell_type": "code",
   "execution_count": 2,
   "metadata": {
    "collapsed": false
   },
   "outputs": [
    {
     "data": {
      "text/plain": [
       "<module 'icosphere' from '/media/andras/HDD_00_NTFS_1397GB_DATA/MEDIA/WORK/science/getmolmap/ipynb/src/icosphere.py'>"
      ]
     },
     "execution_count": 2,
     "metadata": {},
     "output_type": "execute_result"
    }
   ],
   "source": [
    "imp.reload(ico)\n"
   ]
  },
  {
   "cell_type": "code",
   "execution_count": null,
   "metadata": {
    "collapsed": false
   },
   "outputs": [],
   "source": [
    "for sub in range(1, 7):\n",
    "    %time df = pd.DataFrame(ico.IcoSphere(sub).verts)\n",
    "    %time df.to_hdf('../progdata/icosphere_{}.h5'.format(sub), 'w', format='fixed')"
   ]
  },
  {
   "cell_type": "code",
   "execution_count": null,
   "metadata": {
    "collapsed": false
   },
   "outputs": [],
   "source": [
    "sub=10\n",
    "store = pd.read_hdf('../progdata/icosphere_{}.h5'.format(sub))\n",
    "a = np.array(store)"
   ]
  },
  {
   "cell_type": "code",
   "execution_count": 3,
   "metadata": {
    "collapsed": false
   },
   "outputs": [
    {
     "name": "stdout",
     "output_type": "stream",
     "text": [
      "CPU times: user 128 ms, sys: 304 ms, total: 432 ms\n",
      "Wall time: 430 ms\n"
     ]
    },
    {
     "data": {
      "text/plain": [
       "array([[ -5.25731112e-01,   8.50650808e-01,   0.00000000e+00],\n",
       "       [  5.25731112e-01,   8.50650808e-01,   0.00000000e+00],\n",
       "       [ -5.25731112e-01,  -8.50650808e-01,   0.00000000e+00],\n",
       "       ..., \n",
       "       [  9.34305198e-01,   3.56473532e-01,   6.46078471e-04],\n",
       "       [  9.33905900e-01,   3.57518908e-01,   0.00000000e+00],\n",
       "       [  9.34305198e-01,   3.56473532e-01,  -6.46078471e-04]])"
      ]
     },
     "execution_count": 3,
     "metadata": {},
     "output_type": "execute_result"
    }
   ],
   "source": [
    "sub=10\n",
    "% time verts = ico.IcoSphere(sub).verts\n",
    "verts"
   ]
  },
  {
   "cell_type": "code",
   "execution_count": null,
   "metadata": {
    "collapsed": true
   },
   "outputs": [],
   "source": [
    "store."
   ]
  }
 ],
 "metadata": {
  "kernelspec": {
   "display_name": "Python 3",
   "language": "python",
   "name": "python3"
  },
  "language_info": {
   "codemirror_mode": {
    "name": "ipython",
    "version": 3
   },
   "file_extension": ".py",
   "mimetype": "text/x-python",
   "name": "python",
   "nbconvert_exporter": "python",
   "pygments_lexer": "ipython3",
   "version": "3.4.3"
  }
 },
 "nbformat": 4,
 "nbformat_minor": 0
}
