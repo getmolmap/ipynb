{
 "cells": [
  {
   "cell_type": "code",
   "execution_count": 1,
   "metadata": {
    "collapsed": false
   },
   "outputs": [
    {
     "data": {
      "text/plain": [
       "['',\n",
       " '/home/andras/miniconda3/envs/py3k/lib/python35.zip',\n",
       " '/home/andras/miniconda3/envs/py3k/lib/python3.5',\n",
       " '/home/andras/miniconda3/envs/py3k/lib/python3.5/plat-linux',\n",
       " '/home/andras/miniconda3/envs/py3k/lib/python3.5/lib-dynload',\n",
       " '/home/andras/miniconda3/envs/py3k/lib/python3.5/site-packages/Sphinx-1.3.1-py3.5.egg',\n",
       " '/home/andras/miniconda3/envs/py3k/lib/python3.5/site-packages/setuptools-19.1.1-py3.5.egg',\n",
       " '/home/andras/miniconda3/envs/py3k/lib/python3.5/site-packages',\n",
       " '/home/andras/miniconda3/envs/py3k/lib/python3.5/site-packages/IPython/extensions',\n",
       " '/home/andras/.ipython']"
      ]
     },
     "execution_count": 1,
     "metadata": {},
     "output_type": "execute_result"
    }
   ],
   "source": [
    "import sys\n",
    "sys.path"
   ]
  },
  {
   "cell_type": "code",
   "execution_count": null,
   "metadata": {
    "collapsed": true
   },
   "outputs": [],
   "source": []
  }
 ],
 "metadata": {
  "kernelspec": {
   "display_name": "Python 3",
   "language": "python",
   "name": "python3"
  },
  "language_info": {
   "codemirror_mode": {
    "name": "ipython",
    "version": 3
   },
   "file_extension": ".py",
   "mimetype": "text/x-python",
   "name": "python",
   "nbconvert_exporter": "python",
   "pygments_lexer": "ipython3",
   "version": "3.5.1"
  }
 },
 "nbformat": 4,
 "nbformat_minor": 0
}
