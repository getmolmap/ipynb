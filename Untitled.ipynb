{
 "cells": [
  {
   "cell_type": "code",
   "execution_count": 5,
   "metadata": {
    "collapsed": false
   },
   "outputs": [
    {
     "name": "stdout",
     "output_type": "stream",
     "text": [
      "/bin/sh: 1: cd: can't cd to ./demo_molecules/\r\n"
     ]
    }
   ],
   "source": [
    "import subprocess\n",
    "!cd ./demo_molecules/"
   ]
  },
  {
   "cell_type": "code",
   "execution_count": 9,
   "metadata": {
    "collapsed": false
   },
   "outputs": [
    {
     "name": "stdout",
     "output_type": "stream",
     "text": [
      "b'51\\n'\n",
      "b'iprc.xyz\\n'\n",
      "b'C          1.55918        2.02245       -0.41192\\n'\n",
      "b'C          2.80166        2.27974       -1.24836\\n'\n",
      "b'C          3.05567        3.68215       -1.77092\\n'\n",
      "b'P          1.70604        0.24365        0.16212\\n'\n",
      "b'Pt         0.00067       -1.18746       -0.00957\\n'\n",
      "b'Cl        -1.68747       -2.87465       -0.28351\\n'\n",
      "b'C          3.18574       -0.12803       -0.92021\\n'\n",
      "b'C          3.58650        1.21101       -1.49146\\n'\n",
      "b'C          2.36430        0.34036        1.90544\\n'\n",
      "b'C          1.22269        0.69867        2.87610\\n'\n",
      "b'Cl         1.68990       -2.87590        0.24810\\n'\n",
      "b'P         -1.70525        0.24463       -0.15949\\n'\n",
      "b'C         -1.56923        2.00677        0.46665\\n'\n",
      "b'C         -2.82611        2.23685        1.28930\\n'\n",
      "b'C         -3.08473        3.62102        1.82421\\n'\n",
      "b'C         -3.19764       -0.16109        0.89437\\n'\n",
      "b'C         -3.61112        1.16045        1.49522\\n'\n",
      "b'C         -2.34227        0.39311       -1.90694\\n'\n",
      "b'C         -1.19028        0.79166       -2.84962\\n'\n",
      "b'H         -4.52505        1.22521        2.09324\\n'\n",
      "b'H         -2.64579       -0.64018       -2.14129\\n'\n",
      "b'H          0.64428        2.15601       -1.00922\\n'\n",
      "b'H          1.48753        2.71369        0.44612\\n'\n",
      "b'H          4.49242        1.28926       -2.10071\\n'\n",
      "b'H          3.97683       -0.60807       -0.32097\\n'\n",
      "b'H          2.88591       -0.86255       -1.68426\\n'\n",
      "b'H          2.67730       -0.69809        2.10118\\n'\n",
      "b'C          3.56988        1.28684        2.04455\\n'\n",
      "b'H          1.58739        0.65331        3.91541\\n'\n",
      "b'H          0.85454        1.72404        2.69776\\n'\n",
      "b'H          0.38130       -0.00228        2.76000\\n'\n",
      "b'H         -0.66487        2.12392        1.08295\\n'\n",
      "b'H         -1.48505        2.72190       -0.37056\\n'\n",
      "b'H         -3.97922       -0.62744        0.27239\\n'\n",
      "b'H         -2.90434       -0.91487        1.64192\\n'\n",
      "b'C         -3.55177        1.33666       -2.03069\\n'\n",
      "b'H         -1.54095        0.77996       -3.89463\\n'\n",
      "b'H         -0.83199        1.81266       -2.63092\\n'\n",
      "b'H         -0.34528        0.09298       -2.74654\\n'\n",
      "b'H         -4.01482        3.65921        2.41169\\n'\n",
      "b'H         -2.25209        3.95742        2.46854\\n'\n",
      "b'H         -3.16245        4.35310        0.99957\\n'\n",
      "b'H          2.30130        4.39172       -1.39691\\n'\n",
      "b'H          4.04746        4.05148       -1.46121\\n'\n",
      "b'H          3.02354        3.71049       -2.87310\\n'\n",
      "b'H         -3.91466        1.33345       -3.07137\\n'\n",
      "b'H         -4.37859        1.03063       -1.37399\\n'\n",
      "b'H         -3.27561        2.37175       -1.77334\\n'\n",
      "b'H          3.94729        1.24978        3.07939\\n'\n",
      "b'H          4.38898        1.00846        1.36617\\n'\n",
      "b'H          3.28463        2.32847        1.82689\\n'\n",
      "b''\n"
     ]
    }
   ],
   "source": [
    "command = \"obabel iprc.cif -oxyz\"\n",
    "proc = subprocess.Popen([\"obabel\", \"iprc.cif\", \"-oxyz\"], stdout=subprocess.PIPE)\n",
    "line = True\n",
    "while line:\n",
    "    line = proc.stdout.readline()\n",
    "    print(line)"
   ]
  },
  {
   "cell_type": "code",
   "execution_count": 3,
   "metadata": {
    "collapsed": false
   },
   "outputs": [
    {
     "name": "stdout",
     "output_type": "stream",
     "text": [
      "/media/andras/WINDOWS7/[MEDIA]/[WORK]/science/getmolmap/ipynb/demo_molecules\n"
     ]
    }
   ],
   "source": [
    "cd ./demo_molecules/"
   ]
  },
  {
   "cell_type": "code",
   "execution_count": null,
   "metadata": {
    "collapsed": true
   },
   "outputs": [],
   "source": []
  }
 ],
 "metadata": {
  "kernelspec": {
   "display_name": "Python 3",
   "language": "python",
   "name": "python3"
  },
  "language_info": {
   "codemirror_mode": {
    "name": "ipython",
    "version": 3
   },
   "file_extension": ".py",
   "mimetype": "text/x-python",
   "name": "python",
   "nbconvert_exporter": "python",
   "pygments_lexer": "ipython3",
   "version": "3.5.0"
  }
 },
 "nbformat": 4,
 "nbformat_minor": 0
}
