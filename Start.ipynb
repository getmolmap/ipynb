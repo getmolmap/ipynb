{
 "cells": [
  {
   "cell_type": "markdown",
   "metadata": {},
   "source": [
    "## Welcome to the getMolMap demo server!\n",
    "\n",
    "This Notebook Server was **launched just for you**. It's a temporary way for you to try out a recent development version of **getMolMap** in an [IPython/Jupyter](http://jupyter.org/) notebook.\n",
    "\n",
    "<div class=\"alert alert-warning\" role=\"alert\" style=\"margin: 10px\">\n",
    "<p>**WARNING**</p>\n",
    "\n",
    "<p>Don't rely on this server for anything you want to last - your server will be *deleted after 10 minutes of inactivity*.</p>\n",
    "</div>"
   ]
  },
  {
   "cell_type": "markdown",
   "metadata": {},
   "source": [
    "### Getting Started\n",
    "\n",
    "To get started, run the code below to summon the GUI:\n",
    "\n",
    "1. Click on the cell below to select it &mdash; the area with numbered lines in it.\n",
    "2. Press <kbd>SHIFT+ENTER</kbd> on your keyboard or press the <button class='fa fa-step-forward icon-step-forward btn btn-xs btn-default'></button> button in the toolbar above.\n",
    "\n",
    "The graphical user interface will appear below this cell.\n",
    "\n",
    "### Running getMolMap on your molecules:\n",
    "\n",
    "1. Upload your molecules by clicking on the <input type=\"button\" value=\"Browse...\" /> button above. You can upload multiple molecules at once. \n",
    "\n",
    "2. Click the <input type=\"button\" value=\"Run calculation!\" /> and wait for it to finish.\n",
    "\n",
    "3. Copy the results from the output window or download the *getmolmap_results.xlsx* file."
   ]
  },
  {
   "cell_type": "code",
   "execution_count": 1,
   "metadata": {
    "collapsed": false,
    "scrolled": true
   },
   "outputs": [],
   "source": [
    "import sys\n",
    "if './src' not in sys.path:\n",
    "    sys.path.append('./src')\n",
    "if './progdata' not in sys.path:\n",
    "    sys.path.append('./progdata')\n",
    "import gui\n",
    "gui.SimpleGui()"
   ]
  },
  {
   "cell_type": "markdown",
   "metadata": {},
   "source": [
    "Feel free to open new cells using the plus button (<button class='fa fa-plus icon-plus btn btn-xs btn-default'></button>), or hitting <kbd>SHIFT+ENTER</kbd> while the last cell is selected.  \n",
    "A full tutorial for using the notebook interface is available [here](http://nbviewer.jupyter.org/github/jupyter/notebook/blob/master/docs/source/examples/Notebook/Notebook%20Basics.ipynb#Overview-of-the-Notebook-UI).\n"
   ]
  }
 ],
 "metadata": {
  "kernelspec": {
   "display_name": "Python 3",
   "language": "python",
   "name": "python3"
  },
  "language_info": {
   "codemirror_mode": {
    "name": "ipython",
    "version": 3
   },
   "file_extension": ".py",
   "mimetype": "text/x-python",
   "name": "python",
   "nbconvert_exporter": "python",
   "pygments_lexer": "ipython3",
   "version": "3.4.3"
  }
 },
 "nbformat": 4,
 "nbformat_minor": 0
}
