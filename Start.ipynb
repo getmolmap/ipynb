{
 "cells": [
  {
   "cell_type": "code",
   "execution_count": 1,
   "metadata": {
    "collapsed": false
   },
   "outputs": [
    {
     "name": "stdout",
     "output_type": "stream",
     "text": [
      "generating icosphere...\n",
      "icosphere done in 0.3090181350708008 s\n",
      "egde length = 0.1314327780297834\n",
      "number of vertices: 642\n",
      "KD-tree done in 0.0 s\n",
      "\n",
      "../demo_molecules\\iprc.xyz\n",
      "../demo_molecules\\iprc2.xyz\n",
      "All done in 0.010000944137573242 s\n"
     ]
    }
   ],
   "source": [
    "import os\n",
    "try:\n",
    "    os.chdir(os.path.abspath('./src'))\n",
    "except:\n",
    "    pass\n",
    "\n",
    "#from elements import ELEMENTS\n",
    "import gui\n",
    "\n",
    "import imp\n",
    "imp.reload(gui)\n",
    "from ipywidgets import Box, Text, HTML\n",
    "from IPython.display import display\n",
    "\n",
    "model = gui.SimpleDataModel()\n",
    "model.sub = 3\n",
    "mygui = gui.SimpleGui(model=model)\n",
    "mygui.tight_layout()\n",
    "#mygui.width = 420\n",
    "mygui"
   ]
  },
  {
   "cell_type": "code",
   "execution_count": null,
   "metadata": {
    "collapsed": false
   },
   "outputs": [],
   "source": [
    "# open('c:\\\\[MEDIA]\\\\[WORK]\\\\science\\\\getmolmap\\\\ipynb\\\\results\\\\getmolmap_results', 'w')\n",
    "model.get_values()"
   ]
  },
  {
   "cell_type": "code",
   "execution_count": null,
   "metadata": {
    "collapsed": true
   },
   "outputs": [],
   "source": [
    "import traitlets\n",
    "from ipywidgets import IntSlider\n",
    "i = IntSlider()\n",
    "i"
   ]
  },
  {
   "cell_type": "code",
   "execution_count": null,
   "metadata": {
    "collapsed": false
   },
   "outputs": [],
   "source": [
    "from traitlets import HasTraits, Int, Unicode\n",
    "\n",
    "class Requester(HasTraits):\n",
    "    url = Unicode()\n",
    "    timeout = Int(30)\n",
    "\n",
    "o = Requester()\n",
    "# class Kert(traitlets.HasTraits):\n",
    "#    x = traitlets.Int(5)\n",
    "#o = O\n",
    "\n",
    "# traitlets.link((i, 'value'), (o, 'timeout'))\n",
    "traitlets.link(i.value, o.timeout)\n",
    "o.timeout = 10\n",
    "o.traits()"
   ]
  },
  {
   "cell_type": "code",
   "execution_count": null,
   "metadata": {
    "collapsed": false
   },
   "outputs": [],
   "source": [
    "o.timeout = 5"
   ]
  },
  {
   "cell_type": "code",
   "execution_count": null,
   "metadata": {
    "collapsed": false
   },
   "outputs": [],
   "source": [
    "o.timeout"
   ]
  },
  {
   "cell_type": "code",
   "execution_count": null,
   "metadata": {
    "collapsed": true
   },
   "outputs": [],
   "source": [
    "j = IntSlider(50)\n",
    "traitlets.link((j, 'value'), (i, 'value'))\n",
    "j"
   ]
  },
  {
   "cell_type": "code",
   "execution_count": null,
   "metadata": {
    "collapsed": true
   },
   "outputs": [],
   "source": []
  }
 ],
 "metadata": {
  "kernelspec": {
   "display_name": "Python 3",
   "language": "python",
   "name": "python3"
  },
  "language_info": {
   "codemirror_mode": {
    "name": "ipython",
    "version": 3
   },
   "file_extension": ".py",
   "mimetype": "text/x-python",
   "name": "python",
   "nbconvert_exporter": "python",
   "pygments_lexer": "ipython3",
   "version": "3.4.3"
  }
 },
 "nbformat": 4,
 "nbformat_minor": 0
}
