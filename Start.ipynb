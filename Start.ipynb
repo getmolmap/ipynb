{
 "cells": [
  {
   "cell_type": "markdown",
   "metadata": {},
   "source": [
    "## Welcome to the getMolMap demo server!"
   ]
  },
  {
   "cell_type": "markdown",
   "metadata": {
    "hide_input": true
   },
   "source": [
    "### Getting Started\n",
    "\n",
    "1. Upload your molecules by clicking on the <input type=\"button\" value=\"Browse...\" /> button below. You can upload multiple molecules at once. \n",
    "\n",
    "2. Click the <input type=\"button\" value=\"Run calculation!\" /> and wait for it to finish.\n",
    "\n",
    "3. Copy the results from the output window or download the *getmolmap_results.xlsx* file.  \n",
    "\n",
    "  \n",
    "A **manual** for using this notebook interface is available [here](progdata/Manual.ipynb)."
   ]
  },
  {
   "cell_type": "code",
   "execution_count": null,
   "metadata": {
    "collapsed": false,
    "hide_input": false,
    "scrolled": true
   },
   "outputs": [],
   "source": [
    "import sys, imp\n",
    "if './src' not in sys.path:\n",
    "    sys.path.append('./src')\n",
    "if './progdata' not in sys.path:\n",
    "    sys.path.append('./progdata')\n",
    "try:\n",
    "    imp.reload(gui)\n",
    "except NameError:\n",
    "    import gui\n",
    "model = gui.SimpleDataModel()\n",
    "g = gui.SimpleGui(model=model)\n",
    "g"
   ]
  },
  {
   "cell_type": "markdown",
   "metadata": {
    "collapsed": true,
    "hide_input": true
   },
   "source": [
    "Feel free to open new cells using the plus button (<button class='fa fa-plus'></button>), or hitting <kbd>SHIFT+ENTER</kbd> while the last cell is selected."
   ]
  }
 ],
 "metadata": {
  "kernelspec": {
   "display_name": "Python 3",
   "language": "python",
   "name": "python3"
  },
  "language_info": {
   "codemirror_mode": {
    "name": "ipython",
    "version": 3
   },
   "file_extension": ".py",
   "mimetype": "text/x-python",
   "name": "python",
   "nbconvert_exporter": "python",
   "pygments_lexer": "ipython3",
   "version": "3.4.5"
  }
 },
 "nbformat": 4,
 "nbformat_minor": 0
}
