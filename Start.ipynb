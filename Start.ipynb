{
 "cells": [
  {
   "cell_type": "code",
   "execution_count": 11,
   "metadata": {
    "collapsed": false
   },
   "outputs": [],
   "source": [
    "import os\n",
    "try:\n",
    "    os.chdir(os.path.abspath('./src'))\n",
    "except:\n",
    "    pass\n",
    "\n",
    "#from elements import ELEMENTS\n",
    "import gui"
   ]
  },
  {
   "cell_type": "code",
   "execution_count": 16,
   "metadata": {
    "collapsed": false
   },
   "outputs": [],
   "source": [
    "import imp\n",
    "imp.reload(gui)\n",
    "from IPython.html.widgets import Box\n",
    "#from IPython.display import display\n",
    "mydummy = Box()\n",
    "\n",
    "mygui = gui.SpectraGui(model=mydummy)\n",
    "mygui.tight_layout()\n",
    "mygui"
   ]
  }
 ],
 "metadata": {
  "kernelspec": {
   "display_name": "Python 3",
   "language": "python",
   "name": "python3"
  },
  "language_info": {
   "codemirror_mode": {
    "name": "ipython",
    "version": 3
   },
   "file_extension": ".py",
   "mimetype": "text/x-python",
   "name": "python",
   "nbconvert_exporter": "python",
   "pygments_lexer": "ipython3",
   "version": "3.4.3"
  }
 },
 "nbformat": 4,
 "nbformat_minor": 0
}
