{
 "cells": [
  {
   "cell_type": "markdown",
   "metadata": {},
   "source": [
    "## Welcome to the getMolMap demo server!\n",
    "\n",
    "This Notebook Server was **launched just for you**. It's a temporary way for you to try out a recent development version of **getMolMap** in an [IPython/Jupyter](http://jupyter.org/) notebook.\n",
    "\n",
    "<div class=\"alert alert-warning\" role=\"alert\" style=\"margin: 10px\">\n",
    "<p>**WARNING**</p>\n",
    "\n",
    "<p>Don't rely on this server for anything you want to last - your server will be *deleted after 10 minutes of inactivity*.</p>\n",
    "</div>"
   ]
  },
  {
   "cell_type": "markdown",
   "metadata": {},
   "source": [
    "### Getting Started\n",
    "\n",
    "1. Upload your molecules by clicking on the <input type=\"button\" value=\"Browse...\" /> button below. You can upload multiple molecules at once. \n",
    "\n",
    "2. Click the <input type=\"button\" value=\"Run calculation!\" /> and wait for it to finish.\n",
    "\n",
    "3. Copy the results from the output window or download the *getmolmap_results.xlsx* file.  \n",
    "\n",
    "  \n",
    "A **manual** for using this notebook interface is available [here](progdata/Manual.ipynb)."
   ]
  },
  {
   "cell_type": "code",
   "execution_count": 4,
   "metadata": {
    "collapsed": false,
    "hide_input": false,
    "scrolled": true
   },
   "outputs": [],
   "source": [
    "import sys, imp\n",
    "if './src' not in sys.path:\n",
    "    sys.path.append('./src')\n",
    "if './progdata' not in sys.path:\n",
    "    sys.path.append('./progdata')\n",
    "try:\n",
    "    imp.reload(gui)\n",
    "except NameError:\n",
    "    import gui\n",
    "# gui.FileWidget()\n",
    "gui.SimpleGui()"
   ]
  },
  {
   "cell_type": "markdown",
   "metadata": {
    "collapsed": true
   },
   "source": [
    "Feel free to open new cells using the plus button (<button class='fa fa-plus'></button>), or hitting <kbd>SHIFT+ENTER</kbd> while the last cell is selected."
   ]
  }
 ],
 "metadata": {
  "kernelspec": {
   "display_name": "Python 3",
   "language": "python",
   "name": "python3"
  },
  "language_info": {
   "codemirror_mode": {
    "name": "ipython",
    "version": 3
   },
   "file_extension": ".py",
   "mimetype": "text/x-python",
   "name": "python",
   "nbconvert_exporter": "python",
   "pygments_lexer": "ipython3",
   "version": "3.4.5"
  },
  "widgets": {
   "state": {
    "b309a0978bcf4fbeb3b2a0b44269c331": {
     "views": [
      {
       "cell_index": 2
      }
     ]
    }
   },
   "version": "1.2.0"
  }
 },
 "nbformat": 4,
 "nbformat_minor": 0
}
