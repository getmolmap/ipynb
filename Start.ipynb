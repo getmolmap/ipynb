{
 "cells": [
  {
   "cell_type": "markdown",
   "metadata": {},
   "source": [
    "## Welcome to the getMolMap demo server!\n",
    "\n",
    "This Notebook Server was **launched just for you**. It's a temporary way for you to try out a recent development version of **getMolMap** in an [IPython/Jupyter](http://jupyter.org/) notebook.\n",
    "\n",
    "<div class=\"alert alert-warning\" role=\"alert\" style=\"margin: 10px\">\n",
    "<p>**WARNING**</p>\n",
    "\n",
    "<p>Don't rely on this server for anything you want to last - your server will be *deleted after 10 minutes of inactivity*.</p>\n",
    "</div>"
   ]
  },
  {
   "cell_type": "markdown",
   "metadata": {},
   "source": [
    "### Run **getMolMap** on your molecules!\n",
    "\n",
    "To get started, run the code below to summon the GUI:\n",
    "\n",
    "1. Click on the cell to select it.\n",
    "2. Press `SHIFT+ENTER` on your keyboard or press the play button (<button class='fa fa-step-forward icon-step-forward btn btn-xs btn-default'></button>) in the toolbar above.\n",
    "\n",
    "Further instructions are displayed below the GUI you are just about to create.\n",
    "\n",
    "A full tutorial for using the notebook interface is available [here](ipython_examples/Notebook/Index.ipynb)."
   ]
  },
  {
   "cell_type": "code",
   "execution_count": null,
   "metadata": {
    "collapsed": false
   },
   "outputs": [],
   "source": [
    "import os\n",
    "try: os.chdir(os.path.abspath('./src'))\n",
    "except:\n",
    "    pass\n",
    "import gui\n",
    "from IPython.display import display\n",
    "display(gui.SimpleGui())"
   ]
  },
  {
   "cell_type": "markdown",
   "metadata": {},
   "source": [
    "### Run getMolMap on your molecules!\n",
    "\n",
    "1. Upload your molecules by clicking on the upload button (<input type=\"button\" value=\"Browse...\" />). You can upload your molecules one by one at the moment. \n",
    "\n",
    "2. Click the <input type=\"button\" value=\"Run calculation!\" /> and wait for it to finish.\n",
    "\n",
    "3. Copy the results from the output window or download the *getmolmap_results.xlsx* file from the results folder from the *dashboard*. Starting from \n",
    "\n",
    "**Dashboard:**\n",
    "The Jupyter **dashboard** is the first page, where you clicked on `Start.ipynb` to start this browser tab. It is probably the previous tab in your browser. The dashborad's url ends with `/tree` and name of the browser tab is **Home**.\n",
    "\n",
    "**Upload muliple files at once:**\n",
    "If you have a bunch of molecules to calculate, you have to go back to the **dashboard**. Once there, you can fin the upload button (<input type=\"button\" value=\"Upload\" />) in the top right corner, which allows multiple files to be uploaded. The files should be uploaded into the `moldata` folder."
   ]
  },
  {
   "cell_type": "markdown",
   "metadata": {},
   "source": [
    "Feel free to open new cells using the plus button (<button class='fa fa-plus icon-plus btn btn-xs btn-default'></button>), or hitting shift-enter while this cell is selected.\n",
    "\n",
    "Behind the scenes, the software that powers this is [tmpnb](https://github.com/jupyter/tmpnb), a  Tornado application that spawns [pre-built Docker containers](https://github.com/ipython/docker-notebook) and then uses the [jupyter/configurable-http-proxy](https://github.com/jupyter/configurable-http-proxy) to put your notebook server on a unique path."
   ]
  }
 ],
 "metadata": {
  "kernelspec": {
   "display_name": "Python 3",
   "language": "python",
   "name": "python3"
  },
  "language_info": {
   "codemirror_mode": {
    "name": "ipython",
    "version": 3
   },
   "file_extension": ".py",
   "mimetype": "text/x-python",
   "name": "python",
   "nbconvert_exporter": "python",
   "pygments_lexer": "ipython3",
   "version": "3.4.3"
  }
 },
 "nbformat": 4,
 "nbformat_minor": 0
}
