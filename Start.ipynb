{
 "cells": [
  {
   "cell_type": "code",
   "execution_count": 2,
   "metadata": {
    "collapsed": false
   },
   "outputs": [],
   "source": [
    "import os\n",
    "try:\n",
    "    os.chdir(os.path.abspath('./src'))\n",
    "except:\n",
    "    pass\n",
    "\n",
    "#from elements import ELEMENTS\n",
    "import gui"
   ]
  },
  {
   "cell_type": "code",
   "execution_count": 114,
   "metadata": {
    "collapsed": false
   },
   "outputs": [
    {
     "data": {
      "text/plain": [
       "{'atomtype': <traitlets.traitlets.Unicode at 0x4755908>,\n",
       " 'excludes': <traitlets.traitlets.List at 0x4755470>,\n",
       " 'fold': <traitlets.traitlets.Unicode at 0x47559b0>,\n",
       " 'num_angles': <traitlets.traitlets.Int at 0x47554e0>,\n",
       " 'rad_scale': <traitlets.traitlets.Float at 0x4755390>,\n",
       " 'rad_type': <traitlets.traitlets.Unicode at 0x4755048>,\n",
       " 'radii': <traitlets.traitlets.List at 0x47553c8>,\n",
       " 'sub': <traitlets.traitlets.Int at 0x4755a58>}"
      ]
     },
     "execution_count": 114,
     "metadata": {},
     "output_type": "execute_result"
    }
   ],
   "source": [
    "from collections.abc import MutableMapping\n",
    "from traitlets import HasTraits, link, Int, Float, Unicode, List\n",
    "\n",
    "\n",
    "class DataModel(HasTraits):\n",
    "    atomtype = Unicode('Si')\n",
    "    fold = Unicode('.')\n",
    "    sub = Int(6)\n",
    "    rad_type = Unicode('covrad')\n",
    "    rad_scale = Float(1.17)\n",
    "    radii = List(trait=Float, default_value=[0., 1], minlen=1)\n",
    "    excludes = List(trait=Unicode)\n",
    "    num_angles = Int(1)\n",
    "\n",
    "    def getvalues(self):\n",
    "        return dict([(k, getattr(self, k)) for k in self.trait_names()])\n",
    "\n",
    "m = DataModel()\n",
    "m.getvalues()\n",
    "m.traits()\n",
    "            "
   ]
  },
  {
   "cell_type": "code",
   "execution_count": 104,
   "metadata": {
    "collapsed": false
   },
   "outputs": [
    {
     "data": {
      "text/plain": [
       "dict_keys(['x', 'atomtype'])"
      ]
     },
     "execution_count": 104,
     "metadata": {},
     "output_type": "execute_result"
    }
   ],
   "source": [
    "\n",
    "traitlets.\n"
   ]
  },
  {
   "cell_type": "code",
   "execution_count": 158,
   "metadata": {
    "collapsed": false
   },
   "outputs": [],
   "source": [
    "import imp\n",
    "imp.reload(gui)\n",
    "from ipywidgets import Box, Text, HTML\n",
    "from IPython.display import display\n",
    "\n",
    "model = gui.SimpleDataModel()\n",
    "mygui = gui.SimpleGui(model=model)\n",
    "mygui.tight_layout()\n",
    "#mygui.width = 420\n",
    "mygui"
   ]
  },
  {
   "cell_type": "code",
   "execution_count": 166,
   "metadata": {
    "collapsed": false
   },
   "outputs": [
    {
     "name": "stderr",
     "output_type": "stream",
     "text": [
      "The filename, directory name, or volume label syntax is incorrect.\n"
     ]
    },
    {
     "name": "stdout",
     "output_type": "stream",
     "text": [
      " Volume in drive C has no label.\n",
      " Volume Serial Number is 4A67-98C1\n",
      "\n",
      " Directory of c:\\Users\\andras\\Downloads\\new\\src\n",
      "\n",
      "11/16/2015  09:14 AM    <DIR>          .\n",
      "11/16/2015  09:14 AM    <DIR>          ..\n",
      "11/16/2015  06:17 AM           125,330 elements.py\n",
      "11/16/2015  06:17 AM            13,495 getmolmap.00.py\n",
      "11/16/2015  06:17 AM            16,297 getmolmap.03.py\n",
      "11/16/2015  06:17 AM            17,136 getmolmap.py\n",
      "11/16/2015  06:17 AM            14,105 gui.00.py\n",
      "11/16/2015  09:15 AM             7,359 gui.01.py\n",
      "11/18/2015  04:20 PM             8,767 gui.py\n",
      "11/16/2015  06:17 AM             1,991 icosaio.00.py\n",
      "11/16/2015  06:17 AM             2,006 icosaio.py\n",
      "11/16/2015  06:17 AM            10,368 icosphere.py\n",
      "11/18/2015  03:14 PM    <DIR>          __pycache__\n",
      "              10 File(s)        216,854 bytes\n",
      "               3 Dir(s)  934,906,728,448 bytes free\n"
     ]
    }
   ],
   "source": [
    "model.trait_names()\n",
    "!cd 'C:\\Users\\andras\\Downloads\\new\\src\\gui.py'\n",
    "!dir"
   ]
  },
  {
   "cell_type": "code",
   "execution_count": 4,
   "metadata": {
    "collapsed": true
   },
   "outputs": [],
   "source": [
    "import traitlets\n",
    "from ipywidgets import IntSlider\n",
    "i = IntSlider()\n",
    "i"
   ]
  },
  {
   "cell_type": "code",
   "execution_count": 113,
   "metadata": {
    "collapsed": false
   },
   "outputs": [
    {
     "ename": "TypeError",
     "evalue": "object of type 'int' has no len()",
     "output_type": "error",
     "traceback": [
      "\u001b[1;31m---------------------------------------------------------------------------\u001b[0m",
      "\u001b[1;31mTypeError\u001b[0m                                 Traceback (most recent call last)",
      "\u001b[1;32m<ipython-input-113-d5b11de43b92>\u001b[0m in \u001b[0;36m<module>\u001b[1;34m()\u001b[0m\n\u001b[0;32m     11\u001b[0m \u001b[1;33m\u001b[0m\u001b[0m\n\u001b[0;32m     12\u001b[0m \u001b[1;31m# traitlets.link((i, 'value'), (o, 'timeout'))\u001b[0m\u001b[1;33m\u001b[0m\u001b[1;33m\u001b[0m\u001b[0m\n\u001b[1;32m---> 13\u001b[1;33m \u001b[0mtraitlets\u001b[0m\u001b[1;33m.\u001b[0m\u001b[0mlink\u001b[0m\u001b[1;33m(\u001b[0m\u001b[0mi\u001b[0m\u001b[1;33m.\u001b[0m\u001b[0mvalue\u001b[0m\u001b[1;33m,\u001b[0m \u001b[0mo\u001b[0m\u001b[1;33m.\u001b[0m\u001b[0mtimeout\u001b[0m\u001b[1;33m)\u001b[0m\u001b[1;33m\u001b[0m\u001b[0m\n\u001b[0m\u001b[0;32m     14\u001b[0m \u001b[0mo\u001b[0m\u001b[1;33m.\u001b[0m\u001b[0mtimeout\u001b[0m \u001b[1;33m=\u001b[0m \u001b[1;36m10\u001b[0m\u001b[1;33m\u001b[0m\u001b[0m\n\u001b[0;32m     15\u001b[0m \u001b[0mo\u001b[0m\u001b[1;33m.\u001b[0m\u001b[0mtraits\u001b[0m\u001b[1;33m(\u001b[0m\u001b[1;33m)\u001b[0m\u001b[1;33m\u001b[0m\u001b[0m\n",
      "\u001b[1;32mC:\\Miniconda3\\envs\\py3k\\lib\\site-packages\\traitlets\\traitlets.py\u001b[0m in \u001b[0;36m__init__\u001b[1;34m(self, source, target)\u001b[0m\n\u001b[0;32m    205\u001b[0m \u001b[1;33m\u001b[0m\u001b[0m\n\u001b[0;32m    206\u001b[0m     \u001b[1;32mdef\u001b[0m \u001b[0m__init__\u001b[0m\u001b[1;33m(\u001b[0m\u001b[0mself\u001b[0m\u001b[1;33m,\u001b[0m \u001b[0msource\u001b[0m\u001b[1;33m,\u001b[0m \u001b[0mtarget\u001b[0m\u001b[1;33m)\u001b[0m\u001b[1;33m:\u001b[0m\u001b[1;33m\u001b[0m\u001b[0m\n\u001b[1;32m--> 207\u001b[1;33m         \u001b[0m_validate_link\u001b[0m\u001b[1;33m(\u001b[0m\u001b[0msource\u001b[0m\u001b[1;33m,\u001b[0m \u001b[0mtarget\u001b[0m\u001b[1;33m)\u001b[0m\u001b[1;33m\u001b[0m\u001b[0m\n\u001b[0m\u001b[0;32m    208\u001b[0m         \u001b[0mself\u001b[0m\u001b[1;33m.\u001b[0m\u001b[0msource\u001b[0m\u001b[1;33m,\u001b[0m \u001b[0mself\u001b[0m\u001b[1;33m.\u001b[0m\u001b[0mtarget\u001b[0m \u001b[1;33m=\u001b[0m \u001b[0msource\u001b[0m\u001b[1;33m,\u001b[0m \u001b[0mtarget\u001b[0m\u001b[1;33m\u001b[0m\u001b[0m\n\u001b[0;32m    209\u001b[0m         \u001b[1;32mtry\u001b[0m\u001b[1;33m:\u001b[0m\u001b[1;33m\u001b[0m\u001b[0m\n",
      "\u001b[1;32mC:\\Miniconda3\\envs\\py3k\\lib\\site-packages\\traitlets\\traitlets.py\u001b[0m in \u001b[0;36m_validate_link\u001b[1;34m(*tuples)\u001b[0m\n\u001b[0;32m    179\u001b[0m     \u001b[1;34m\"\"\"Validate arguments for traitlet link functions\"\"\"\u001b[0m\u001b[1;33m\u001b[0m\u001b[0m\n\u001b[0;32m    180\u001b[0m     \u001b[1;32mfor\u001b[0m \u001b[0mt\u001b[0m \u001b[1;32min\u001b[0m \u001b[0mtuples\u001b[0m\u001b[1;33m:\u001b[0m\u001b[1;33m\u001b[0m\u001b[0m\n\u001b[1;32m--> 181\u001b[1;33m         \u001b[1;32mif\u001b[0m \u001b[1;32mnot\u001b[0m \u001b[0mlen\u001b[0m\u001b[1;33m(\u001b[0m\u001b[0mt\u001b[0m\u001b[1;33m)\u001b[0m \u001b[1;33m==\u001b[0m \u001b[1;36m2\u001b[0m\u001b[1;33m:\u001b[0m\u001b[1;33m\u001b[0m\u001b[0m\n\u001b[0m\u001b[0;32m    182\u001b[0m             \u001b[1;32mraise\u001b[0m \u001b[0mTypeError\u001b[0m\u001b[1;33m(\u001b[0m\u001b[1;34m\"Each linked traitlet must be specified as (HasTraits, 'trait_name'), not %r\"\u001b[0m \u001b[1;33m%\u001b[0m \u001b[0mt\u001b[0m\u001b[1;33m)\u001b[0m\u001b[1;33m\u001b[0m\u001b[0m\n\u001b[0;32m    183\u001b[0m         \u001b[0mobj\u001b[0m\u001b[1;33m,\u001b[0m \u001b[0mtrait_name\u001b[0m \u001b[1;33m=\u001b[0m \u001b[0mt\u001b[0m\u001b[1;33m\u001b[0m\u001b[0m\n",
      "\u001b[1;31mTypeError\u001b[0m: object of type 'int' has no len()"
     ]
    }
   ],
   "source": [
    "from traitlets import HasTraits, Int, Unicode\n",
    "\n",
    "class Requester(HasTraits):\n",
    "    url = Unicode()\n",
    "    timeout = Int(30)\n",
    "\n",
    "o = Requester()\n",
    "# class Kert(traitlets.HasTraits):\n",
    "#    x = traitlets.Int(5)\n",
    "#o = O\n",
    "\n",
    "# traitlets.link((i, 'value'), (o, 'timeout'))\n",
    "traitlets.link(i.value, o.timeout)\n",
    "o.timeout = 10\n",
    "o.traits()"
   ]
  },
  {
   "cell_type": "code",
   "execution_count": 28,
   "metadata": {
    "collapsed": false
   },
   "outputs": [],
   "source": [
    "o.timeout = 5"
   ]
  },
  {
   "cell_type": "code",
   "execution_count": 25,
   "metadata": {
    "collapsed": false
   },
   "outputs": [
    {
     "data": {
      "text/plain": [
       "77"
      ]
     },
     "execution_count": 25,
     "metadata": {},
     "output_type": "execute_result"
    }
   ],
   "source": [
    "o.timeout"
   ]
  },
  {
   "cell_type": "code",
   "execution_count": 27,
   "metadata": {
    "collapsed": true
   },
   "outputs": [],
   "source": [
    "j = IntSlider(50)\n",
    "traitlets.link((j, 'value'), (i, 'value'))\n",
    "j"
   ]
  },
  {
   "cell_type": "code",
   "execution_count": null,
   "metadata": {
    "collapsed": true
   },
   "outputs": [],
   "source": []
  }
 ],
 "metadata": {
  "kernelspec": {
   "display_name": "Python 3",
   "language": "python",
   "name": "python3"
  },
  "language_info": {
   "codemirror_mode": {
    "name": "ipython",
    "version": 3
   },
   "file_extension": ".py",
   "mimetype": "text/x-python",
   "name": "python",
   "nbconvert_exporter": "python",
   "pygments_lexer": "ipython3",
   "version": "3.4.3"
  }
 },
 "nbformat": 4,
 "nbformat_minor": 0
}
